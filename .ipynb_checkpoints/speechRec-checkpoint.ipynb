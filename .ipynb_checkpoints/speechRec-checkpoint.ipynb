{
 "cells": [
  {
   "cell_type": "code",
   "execution_count": 2,
   "metadata": {},
   "outputs": [
    {
     "name": "stdout",
     "output_type": "stream",
     "text": [
      "The audio file contains: Om Bhur Bhuva Swaha Tat savitur varenyam bhargo Devasya dhimahi dhiyo yonah prachodayat\n"
     ]
    }
   ],
   "source": [
    "import speech_recognition as sr \n",
    "  \n",
    "AUDIO_FILE = (\"Recording.wav\") \n",
    "  \n",
    "# use the audio file as the audio source \n",
    "  \n",
    "r = sr.Recognizer() \n",
    "  \n",
    "with sr.AudioFile(AUDIO_FILE) as source: \n",
    "    #reads the audio file. Here we use record instead of \n",
    "    #listen \n",
    "    audio = r.record(source)   \n",
    "  \n",
    "try: \n",
    "    print(\"The audio file contains: \" + r.recognize_google(audio)) \n",
    "  \n",
    "except sr.UnknownValueError: \n",
    "    print(\"Google Speech Recognition could not understand audio\") \n",
    "  \n",
    "except sr.RequestError as e: \n",
    "    print(\"Could not request results from Google Speech  Recognition service; {0}\".format(e))"
   ]
  },
  {
   "cell_type": "code",
   "execution_count": 3,
   "metadata": {},
   "outputs": [
    {
     "name": "stdout",
     "output_type": "stream",
     "text": [
      "The audio file contains: Om Namah Shivay\n"
     ]
    }
   ],
   "source": [
    "AUDIO_FILE = (\"recTwo.wav\") \n",
    "  \n",
    "# use the audio file as the audio source \n",
    "  \n",
    "r = sr.Recognizer() \n",
    "  \n",
    "with sr.AudioFile(AUDIO_FILE) as source: \n",
    "    #reads the audio file. Here we use record instead of \n",
    "    #listen \n",
    "    audio = r.record(source)   \n",
    "  \n",
    "try: \n",
    "    print(\"The audio file contains: \" + r.recognize_google(audio)) \n",
    "  \n",
    "except sr.UnknownValueError: \n",
    "    print(\"Google Speech Recognition could not understand audio\") \n",
    "  \n",
    "except sr.RequestError as e: \n",
    "    print(\"Could not request results from Google Speech  Recognition service; {0}\".format(e))"
   ]
  },
  {
   "cell_type": "code",
   "execution_count": 4,
   "metadata": {},
   "outputs": [
    {
     "data": {
      "text/plain": [
       "['Microsoft Sound Mapper - Input',\n",
       " 'Microphone (Realtek Audio)',\n",
       " 'Microsoft Sound Mapper - Output',\n",
       " 'Speakers / Headphones (Realtek ',\n",
       " 'Speakers (Realtek HD Audio output)',\n",
       " 'Microphone (Realtek HD Audio Mic input)',\n",
       " 'Stereo Mix (Realtek HD Audio Stereo input)']"
      ]
     },
     "execution_count": 4,
     "metadata": {},
     "output_type": "execute_result"
    }
   ],
   "source": [
    "mic_list = sr.Microphone.list_microphone_names() \n",
    "mic_list"
   ]
  },
  {
   "cell_type": "code",
   "execution_count": 14,
   "metadata": {},
   "outputs": [],
   "source": [
    "sample_rate=48000\n",
    "chunk_size=4096"
   ]
  },
  {
   "cell_type": "code",
   "execution_count": 15,
   "metadata": {},
   "outputs": [
    {
     "name": "stdout",
     "output_type": "stream",
     "text": [
      "Say Something\n",
      "you said:  Bhur Bhuva Swaha Tat savitur varenyam bhargo Devasya dhimahi dhiyo yonah prachodaya Om Bhur Bhuva Swaha\n"
     ]
    }
   ],
   "source": [
    "with sr.Microphone(device_index = 0, sample_rate = sample_rate,  chunk_size = chunk_size) as source: \n",
    "    #wait for a second to let the recognizer adjust the  \n",
    "    #energy threshold based on the surrounding noise level \n",
    "    r.adjust_for_ambient_noise(source) \n",
    "    print (\"Say Something\")\n",
    "    #listens for the user's input \n",
    "    audio = r.listen(source) \n",
    "          \n",
    "    try: \n",
    "        text = r.recognize_google(audio) \n",
    "        print (\"you said: \" ,text )\n",
    "      \n",
    "    #error occurs when google could not understand what was said \n",
    "      \n",
    "    except sr.UnknownValueError: \n",
    "        print(\"Google Speech Recognition could not understand audio\") \n",
    "      \n",
    "    except sr.RequestError as e: \n",
    "        print(\"Could not request results from Google  Speech Recognition service; {0}\".format(e))"
   ]
  },
  {
   "cell_type": "code",
   "execution_count": 16,
   "metadata": {},
   "outputs": [],
   "source": [
    "gayatri_mantra='Om Bhur Bhuva Swaha Tat savitur varenyam bhargo Devasya dhimahi dhiyo yonah prachodayat'"
   ]
  },
  {
   "cell_type": "code",
   "execution_count": 18,
   "metadata": {},
   "outputs": [
    {
     "data": {
      "text/plain": [
       "['Om',\n",
       " 'Bhur',\n",
       " 'Bhuva',\n",
       " 'Swaha',\n",
       " 'Tat',\n",
       " 'savitur',\n",
       " 'varenyam',\n",
       " 'bhargo',\n",
       " 'Devasya',\n",
       " 'dhimahi',\n",
       " 'dhiyo',\n",
       " 'yonah',\n",
       " 'prachodayat']"
      ]
     },
     "execution_count": 18,
     "metadata": {},
     "output_type": "execute_result"
    }
   ],
   "source": [
    "text_arr=gayatri_mantra.split(\" \")\n",
    "text_arr"
   ]
  },
  {
   "cell_type": "code",
   "execution_count": 20,
   "metadata": {},
   "outputs": [],
   "source": [
    "s=set(text_arr)"
   ]
  },
  {
   "cell_type": "code",
   "execution_count": 22,
   "metadata": {},
   "outputs": [
    {
     "name": "stdout",
     "output_type": "stream",
     "text": [
      "Say Something\n",
      "You got the following word wrong : audio\n",
      "It shouldve been : Tat\n",
      "you said:  Om Bhur Bhuva Swaha audio\n"
     ]
    }
   ],
   "source": [
    "with sr.Microphone(device_index = 0, sample_rate = sample_rate,  chunk_size = chunk_size) as source: \n",
    "    #wait for a second to let the recognizer adjust the  \n",
    "    #energy threshold based on the surrounding noise level \n",
    "    r.adjust_for_ambient_noise(source) \n",
    "    print (\"Say Something\")\n",
    "    #listens for the user's input \n",
    "    audio = r.listen(source) \n",
    "          \n",
    "    try: \n",
    "        text = r.recognize_google(audio)\n",
    "        arr=text.split(\" \")\n",
    "        i=0\n",
    "        for word in arr:\n",
    "            if word not in s:\n",
    "                print(\"You got the following word wrong :\",word)\n",
    "                print(\"It shouldve been :\",text_arr[i])\n",
    "            i=i+1\n",
    "        \n",
    "        print (\"you said: \" ,text )\n",
    "      \n",
    "    #error occurs when google could not understand what was said \n",
    "      \n",
    "    except sr.UnknownValueError: \n",
    "        print(\"Google Speech Recognition could not understand audio\") \n",
    "      \n",
    "    except sr.RequestError as e: \n",
    "        print(\"Could not request results from Google  Speech Recognition service; {0}\".format(e))"
   ]
  },
  {
   "cell_type": "code",
   "execution_count": null,
   "metadata": {},
   "outputs": [],
   "source": []
  }
 ],
 "metadata": {
  "kernelspec": {
   "display_name": "Python 3",
   "language": "python",
   "name": "python3"
  },
  "language_info": {
   "codemirror_mode": {
    "name": "ipython",
    "version": 3
   },
   "file_extension": ".py",
   "mimetype": "text/x-python",
   "name": "python",
   "nbconvert_exporter": "python",
   "pygments_lexer": "ipython3",
   "version": "3.7.3"
  }
 },
 "nbformat": 4,
 "nbformat_minor": 2
}
